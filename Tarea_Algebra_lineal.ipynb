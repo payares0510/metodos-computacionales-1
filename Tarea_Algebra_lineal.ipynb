{
  "nbformat": 4,
  "nbformat_minor": 0,
  "metadata": {
    "colab": {
      "provenance": [],
      "include_colab_link": true
    },
    "kernelspec": {
      "name": "python3",
      "display_name": "Python 3"
    },
    "language_info": {
      "name": "python"
    }
  },
  "cells": [
    {
      "cell_type": "markdown",
      "metadata": {
        "id": "view-in-github",
        "colab_type": "text"
      },
      "source": [
        "<a href=\"https://colab.research.google.com/github/payares0510/metodos-computacionales-1/blob/main/Tarea_Algebra_lineal.ipynb\" target=\"_parent\"><img src=\"https://colab.research.google.com/assets/colab-badge.svg\" alt=\"Open In Colab\"/></a>"
      ]
    },
    {
      "cell_type": "code",
      "source": [
        "#punto 2#\n",
        "import numpy as np\n",
        "\n",
        "A = np.array([[3, -1, -1],\n",
        "              [-1, 3, 1],\n",
        "              [2, 1, 4]], dtype=float)\n",
        "b = np.array([1, 3, 7], dtype=float)\n",
        "x = np.zeros_like(b)\n",
        "tolerancia = 1e-10\n",
        "max_iterations = 100\n",
        "\n",
        "for k in range(max_iterations):\n",
        "    x_old = x.copy()\n",
        "\n",
        "    for i in range(len(b)):\n",
        "        sum1 = sum(A[i, j] * x[j] for j in range(i))\n",
        "        sum2 = sum(A[i, j] * x_old[j] for j in range(i + 1, len(b)))\n",
        "        x[i] = (b[i] - sum1 - sum2) / A[i, i]\n",
        "    if np.linalg.norm(x - x_old, ord=np.inf) < tolerancia:\n",
        "        break\n",
        "\n",
        "x, k\n"
      ],
      "metadata": {
        "colab": {
          "base_uri": "https://localhost:8080/"
        },
        "id": "TYLp2ihAN_pz",
        "outputId": "8ff6e23e-8a42-4671-9b8b-4869ab700e01"
      },
      "execution_count": null,
      "outputs": [
        {
          "output_type": "execute_result",
          "data": {
            "text/plain": [
              "(array([1., 1., 1.]), 17)"
            ]
          },
          "metadata": {},
          "execution_count": 3
        }
      ]
    },
    {
      "cell_type": "code",
      "execution_count": null,
      "metadata": {
        "colab": {
          "base_uri": "https://localhost:8080/"
        },
        "id": "lwGOwdANvc-z",
        "outputId": "18f3b29d-e0e0-4ffd-a5aa-8e3e400b3da4"
      },
      "outputs": [
        {
          "output_type": "stream",
          "name": "stdout",
          "text": [
            "Jacobi converge en 23 iteraciones\n",
            "Gauss-Seidel converge en 18 iteraciones\n",
            "Solución usando Jacobi: [1. 1. 1.]\n",
            "Solución usando Gauss-Seidel: [1. 1. 1.]\n"
          ]
        }
      ],
      "source": [
        "# punto 3#\n",
        "import numpy as np\n",
        "\n",
        "class SistemaLineal:\n",
        "    def __init__(self, A, b):\n",
        "        self.A = np.array(A, dtype=float)\n",
        "        self.b = np.array(b, dtype=float)\n",
        "        self.n = len(b)\n",
        "\n",
        "    def jacobi(self, tol=1e-10, max_iter=100):\n",
        "        x = np.zeros(self.n)\n",
        "        D = np.diag(np.diag(self.A))\n",
        "        L_U = self.A - D\n",
        "        D_inv = np.linalg.inv(D)\n",
        "\n",
        "        for i in range(max_iter):\n",
        "            x_new = np.dot(D_inv, self.b - np.dot(L_U, x))\n",
        "            if np.linalg.norm(x_new - x, ord=np.inf) < tol:\n",
        "                print(f\"Jacobi converge en {i+1} iteraciones\")\n",
        "                return x_new\n",
        "            x = x_new\n",
        "\n",
        "        print(\"Jacobi no converge\")\n",
        "        return x\n",
        "\n",
        "    def gauss_seidel(self, tol=1e-10, max_iter=100):\n",
        "        x = np.zeros(self.n)\n",
        "\n",
        "        for i in range(max_iter):\n",
        "            x_new = np.copy(x)\n",
        "            for j in range(self.n):\n",
        "                sum1 = np.dot(self.A[j, :j], x_new[:j])\n",
        "                sum2 = np.dot(self.A[j, j+1:], x[j+1:])\n",
        "                x_new[j] = (self.b[j] - sum1 - sum2) / self.A[j, j]\n",
        "\n",
        "            if np.linalg.norm(x_new - x, ord=np.inf) < tol:\n",
        "                print(f\"Gauss-Seidel converge en {i+1} iteraciones\")\n",
        "                return x_new\n",
        "            x = x_new\n",
        "\n",
        "        print(\"Gauss-Seidel no converge\")\n",
        "        return x\n",
        "\n",
        "A = [[3, -1, -1], [-1, 3, 1], [2, 1, 4]]\n",
        "b = [1, 3, 7]\n",
        "\n",
        "sistema = SistemaLineal(A, b)\n",
        "sol_jacobi = sistema.jacobi()\n",
        "sol_gauss_seidel = sistema.gauss_seidel()\n",
        "\n",
        "print(\"Solución usando Jacobi:\", sol_jacobi)\n",
        "print(\"Solución usando Gauss-Seidel:\", sol_gauss_seidel)"
      ]
    },
    {
      "cell_type": "code",
      "source": [
        "#punto 4#\n",
        "\n",
        "A = np.array([[1, 0, 0], [5, 1, 0], [-2, 3, 1]])\n",
        "B = np.array([[4, -2, 1], [0, 3, 7], [0, 0, 2]])\n",
        "\n",
        "def multiplicar_matrices(A, B):\n",
        "    filas_A, columnas_A = A.shape\n",
        "    filas_B, columnas_B = B.shape\n",
        "\n",
        "\n",
        "    C = np.zeros((filas_A, columnas_B))\n",
        "\n",
        "    for i in range(filas_A):\n",
        "        for j in range(columnas_B):\n",
        "            for k in range(columnas_A):\n",
        "                C[i][j] += A[i][k] * B[k][j]\n",
        "\n",
        "    return C\n",
        "\n",
        "resultado = multiplicar_matrices(A, B)\n",
        "print(\"El resultado de la multiplicación AB es:\")\n",
        "print(resultado)"
      ],
      "metadata": {
        "colab": {
          "base_uri": "https://localhost:8080/"
        },
        "id": "eZwroRp_YDNy",
        "outputId": "6547b884-3bf0-4181-f0da-12ace66b0532"
      },
      "execution_count": null,
      "outputs": [
        {
          "output_type": "stream",
          "name": "stdout",
          "text": [
            "El resultado de la multiplicación AB es:\n",
            "[[ 4. -2.  1.]\n",
            " [20. -7. 12.]\n",
            " [-8. 13. 21.]]\n"
          ]
        }
      ]
    },
    {
      "cell_type": "markdown",
      "source": [],
      "metadata": {
        "id": "HrKRyDDhYNeg"
      }
    },
    {
      "cell_type": "markdown",
      "source": [],
      "metadata": {
        "id": "zC81o5ETYOE_"
      }
    },
    {
      "cell_type": "code",
      "source": [
        "#punto 8#\n",
        "def descomposicion_lu(A):\n",
        "    n = len(A)\n",
        "    L = np.zeros((n, n))\n",
        "    U = np.zeros((n, n))\n",
        "\n",
        "    for i in range(n):\n",
        "        L[i][i] = 1\n",
        "        for j in range(i, n):\n",
        "            U[i][j] = A[i][j] - sum(L[i][k] * U[k][j] for k in range(i))\n",
        "        for j in range(i + 1, n):\n",
        "            L[j][i] = (A[j][i] - sum(L[j][k] * U[k][i] for k in range(i))) / U[i][i]\n",
        "\n",
        "    return L, U\n",
        "\n",
        "A = np.array([[4, -2, 1], [20, -7, 12], [-8, 13, 17]], dtype=float)\n",
        "\n",
        "L, U = descomposicion_lu(A)\n",
        "\n",
        "print(\"Matriz L:\")\n",
        "print(L)\n",
        "print(\"\\nMatriz U:\")\n",
        "print(U)"
      ],
      "metadata": {
        "id": "aAcI4etwYLb-",
        "outputId": "dd99f288-f6a2-4161-d0e4-6d12bd741d9f",
        "colab": {
          "base_uri": "https://localhost:8080/"
        }
      },
      "execution_count": null,
      "outputs": [
        {
          "output_type": "stream",
          "name": "stdout",
          "text": [
            "Matriz L:\n",
            "[[ 1.  0.  0.]\n",
            " [ 5.  1.  0.]\n",
            " [-2.  3.  1.]]\n",
            "\n",
            "Matriz U:\n",
            "[[ 4. -2.  1.]\n",
            " [ 0.  3.  7.]\n",
            " [ 0.  0. -2.]]\n"
          ]
        }
      ]
    },
    {
      "cell_type": "code",
      "source": [
        "#punto 10#\n",
        "\n",
        "import numpy as np\n",
        "\n",
        "def max_off_diagonal(A):\n",
        "    n = A.shape[0]\n",
        "    max_val = 0\n",
        "    p = 0\n",
        "    q = 1\n",
        "    for i in range(n):\n",
        "        for j in range(i + 1, n):\n",
        "            if abs(A[i, j]) > max_val:\n",
        "                max_val = abs(A[i, j])\n",
        "                p, q = i, j\n",
        "    return max_val, p, q\n",
        "\n",
        "def jacobi_method(A, tol=1e-10, max_iterations=100):\n",
        "    n = A.shape[0]\n",
        "    D = A.copy()\n",
        "    V = np.eye(n)\n",
        "    iteration = 0\n",
        "\n",
        "    while iteration < max_iterations:\n",
        "        max_val, p, q = max_off_diagonal(D)\n",
        "        if max_val < tol:\n",
        "            break\n",
        "\n",
        "        if D[p, p] == D[q, q]:\n",
        "            theta = np.pi / 4\n",
        "        else:\n",
        "            theta = 0.5 * np.arctan(2 * D[p, q] / (D[p, p] - D[q, q]))\n",
        "\n",
        "        R = np.eye(n)\n",
        "        R[p, p] = np.cos(theta)\n",
        "        R[q, q] = np.cos(theta)\n",
        "        R[p, q] = -np.sin(theta)\n",
        "        R[q, p] = np.sin(theta)\n",
        "\n",
        "        D = R.T @ D @ R\n",
        "        V = V @ R\n",
        "\n",
        "        iteration += 1\n",
        "\n",
        "    eigenvalues = np.diag(D)\n",
        "    eigenvectors = V\n",
        "    return eigenvalues, eigenvectors\n",
        "\n",
        "A = np.array([[4, 1, 1],\n",
        "              [1, 3, 2],\n",
        "              [1, 2, 5]])\n",
        "\n",
        "eigenvalues_jacobi, eigenvectors_jacobi = jacobi_method(A)\n",
        "\n",
        "print(\"Valores propios (Jacobi):\")\n",
        "print(eigenvalues_jacobi)\n",
        "print(\"\\nVectores propios (Jacobi):\")\n",
        "print(eigenvectors_jacobi)\n",
        "\n",
        "eigenvalues_np, eigenvectors_np = np.linalg.eig(A)\n",
        "\n",
        "print(\"\\nValores propios (Numpy):\")\n",
        "print(eigenvalues_np)\n",
        "print(\"\\nVectores propios (Numpy):\")\n",
        "print(eigenvectors_np)\n"
      ],
      "metadata": {
        "id": "-srBkR7eRkei"
      },
      "execution_count": null,
      "outputs": []
    },
    {
      "cell_type": "code",
      "source": [
        "#punto 12#\n",
        "\n",
        "import numpy as np\n",
        "\n",
        "def f1(x):\n",
        "    x1, x2 = x\n",
        "    return np.log(x1**2 + x2**2) - np.sin(x1 * x2) - (np.log(2) + np.log(np.pi))\n",
        "\n",
        "def f2(x):\n",
        "    x1, x2 = x\n",
        "    return np.exp(x1 - x2) + np.cos(x1 * x2)\n",
        "\n",
        "def F(x):\n",
        "    return np.array([f1(x), f2(x)])\n",
        "\n",
        "def jacobian(x):\n",
        "    x1, x2 = x\n",
        "    df1_dx1 = (2*x1 / (x1**2 + x2**2)) - x2 * np.cos(x1 * x2)\n",
        "    df1_dx2 = (2*x2 / (x1**2 + x2**2)) - x1 * np.cos(x1 * x2)\n",
        "    df2_dx1 = np.exp(x1 - x2) - x2 * np.sin(x1 * x2)\n",
        "    df2_dx2 = -np.exp(x1 - x2) - x1 * np.sin(x1 * x2)\n",
        "    return np.array([[df1_dx1, df1_dx2], [df2_dx1, df2_dx2]])\n",
        "\n",
        "def newton_raphson(x0, tol=1e-6, max_iter=100):\n",
        "    x = np.array(x0)\n",
        "    for i in range(max_iter):\n",
        "        J = jacobian(x)\n",
        "        F_val = F(x)\n",
        "        delta_x = np.linalg.solve(J, -F_val)\n",
        "        x = x + delta_x\n",
        "        if np.linalg.norm(F_val) < tol:\n",
        "            print(f'Converge en {i+1} iteraciones')\n",
        "            return x\n",
        "    print('Se alcanzó el número máximo de iteraciones sin convergencia')\n",
        "    return x\n",
        "x0 = [2, 2]\n",
        "sol = newton_raphson(x0)\n",
        "print(\"Solucion:\", sol)\n",
        "\n",
        "def objective_function(x):\n",
        "    return 0.5 * np.sum(F(x)**2)\n",
        "\n",
        "def gradient(x):\n",
        "    return np.dot(jacobian(x).T, F(x))\n",
        "\n",
        "def gradient_descent(x0, learning_rate=0.01, tol=1e-6, max_iter=1000):\n",
        "    x = np.array(x0)\n",
        "    for i in range(max_iter):\n",
        "        grad = gradient(x)\n",
        "        x = x - learning_rate * grad\n",
        "        if np.linalg.norm(grad) < tol:\n",
        "            print(f'Converge en {i+1} iteraciones')\n",
        "            return x\n",
        "    print('Se alcanzó el número máximo de iteraciones sin convergencia.')\n",
        "    return x\n",
        "\n",
        "sol_grad = gradient_descent(x0)\n",
        "print(\"Solución con descenso de gradiente\", sol_grad)\n"
      ],
      "metadata": {
        "id": "9MJx5EKOSwTv"
      },
      "execution_count": null,
      "outputs": []
    },
    {
      "cell_type": "code",
      "source": [
        "#punto 13#\n",
        "\n",
        "import numpy as np\n",
        "\n",
        "def jacobian_cuarto_orden(f, x, h=0.01):\n",
        "    n = len(x)\n",
        "    jacobian = np.zeros((n, n))\n",
        "\n",
        "    for i in range(n):\n",
        "        for j in range(n):\n",
        "            x_h2_pos = np.copy(x)\n",
        "            x_h1_pos = np.copy(x)\n",
        "            x_h1_neg = np.copy(x)\n",
        "            x_h2_neg = np.copy(x)\n",
        "            x_h2_pos[j] += 2 * h\n",
        "            x_h1_pos[j] += h\n",
        "            x_h1_neg[j] -= h\n",
        "            x_h2_neg[j] -= 2 * h\n",
        "            jacobian[i, j] = (-f(x_h2_pos)[i] + 8*f(x_h1_pos)[i] - 8*f(x_h1_neg)[i] + f(x_h2_neg)[i]) / (12 * h)\n",
        "\n",
        "    return jacobian\n",
        "\n",
        "def f1_568(x):\n",
        "    x1, x2, x3 = x\n",
        "    return 6 * x1 - 2 * np.cos(x2 * x3) - 1\n",
        "\n",
        "def f2_568(x):\n",
        "    x1, x2, x3 = x\n",
        "    return 9 * x2 + np.sqrt(x1**2 + 1) + np.sin(x3) + 1.06 + 0.9\n",
        "\n",
        "def f3_568(x):\n",
        "    x1, x2, x3 = x\n",
        "    return 60 * x3 + 3 * np.exp(-x1 * x2) + 10 * np.pi - 3\n",
        "\n",
        "def F_568(x):\n",
        "    return np.array([f1_568(x), f2_568(x), f3_568(x)])\n",
        "\n",
        "x = [0.5, 0.5, 0.5]\n",
        "h = 0.01\n",
        "jac_cuarto = jacobian_cuarto_orden(F_568, x, h)\n",
        "print(\"Jacobiano con derivada de cuarto orden:\")\n",
        "print(jac_cuarto)\n",
        "\n",
        "def jacobian_segundo_orden(f, x, h=0.01):\n",
        "    n = len(x)\n",
        "    jacobian = np.zeros((n, n))\n",
        "\n",
        "    for i in range(n):\n",
        "        for j in range(n):\n",
        "            x_h1_pos = np.copy(x)\n",
        "            x_h1_neg = np.copy(x)\n",
        "            x_h1_pos[j] += h\n",
        "            x_h1_neg[j] -= h\n",
        "            jacobian[i, j] = (f(x_h1_pos)[i] - f(x_h1_neg)[i]) / (2 * h)\n",
        "\n",
        "    return jacobian\n",
        "\n",
        "jac_segundo = jacobian_segundo_orden(F_568, x, h)\n",
        "print(\"Jacobiano con derivada de segundo orden:\")\n",
        "print(jac_segundo)\n",
        "for h_val in [0.01, 0.001, 0.0001, 0.00001]:\n",
        "    jac_cuarto = jacobian_cuarto_orden(F_568, x, h_val)\n",
        "    jac_segundo = jacobian_segundo_orden(F_568, x, h_val)\n",
        "    difference = np.linalg.norm(jac_cuarto - jac_segundo)\n",
        "    print(f'Difference between Jacobians for h = {h_val}: {difference}')\n"
      ],
      "metadata": {
        "id": "Lj7L3rUWTfHi"
      },
      "execution_count": null,
      "outputs": []
    },
    {
      "cell_type": "code",
      "source": [
        "#punto 14#\n",
        "\n",
        "import sympy as sp\n",
        "Jx = sp.Matrix([[0, 0, 0],\n",
        "                [0, 0, -1],\n",
        "                [0, 1, 0]])\n",
        "\n",
        "Jy = sp.Matrix([[0, 0, 1],\n",
        "                [0, 0, 0],\n",
        "                [-1, 0, 0]])\n",
        "\n",
        "Jz = sp.Matrix([[0, -1, 0],\n",
        "                [1, 0, 0],\n",
        "                [0, 0, 0]])\n",
        "\n",
        "def commutator(A, B):\n",
        "    return A * B - B * A\n",
        "\n",
        "commutator_xy = commutator(Jx, Jy)\n",
        "commutator_yz = commutator(Jy, Jz)\n",
        "commutator_zx = commutator(Jz, Jx)\n",
        "epsilon_123 = sp.Matrix([[0, 0, 1],\n",
        "                         [0, 0, 1],\n",
        "                         [-1, 0, 0]])\n",
        "\n",
        "# The variable 'texit' was not defined. Assuming it should be 1\n",
        "# based on the pattern in the other matrices.\n",
        "epsilon_312 = sp.Matrix([[1, 0, 0],\n",
        "                         [0, 1, 0],\n",
        "                         [0, 0, 1]])\n",
        "\n"
      ],
      "metadata": {
        "id": "1mtAnb-XWStb"
      },
      "execution_count": 3,
      "outputs": []
    }
  ]
}