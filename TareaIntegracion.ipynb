{
  "nbformat": 4,
  "nbformat_minor": 0,
  "metadata": {
    "colab": {
      "provenance": [],
      "include_colab_link": true
    },
    "kernelspec": {
      "name": "python3",
      "display_name": "Python 3"
    },
    "language_info": {
      "name": "python"
    }
  },
  "cells": [
    {
      "cell_type": "markdown",
      "metadata": {
        "id": "view-in-github",
        "colab_type": "text"
      },
      "source": [
        "<a href=\"https://colab.research.google.com/github/payares0510/metodos-computacionales-1/blob/main/TareaIntegracion.ipynb\" target=\"_parent\"><img src=\"https://colab.research.google.com/assets/colab-badge.svg\" alt=\"Open In Colab\"/></a>"
      ]
    },
    {
      "cell_type": "code",
      "execution_count": null,
      "metadata": {
        "colab": {
          "base_uri": "https://localhost:8080/"
        },
        "id": "_sr8x5EJrOZB",
        "outputId": "01bfe2b2-f6cf-400f-9139-e255ac69a939"
      },
      "outputs": [
        {
          "output_type": "stream",
          "name": "stdout",
          "text": [
            "0.7468240713763741\n"
          ]
        }
      ],
      "source": [
        "#PUNTO 5#\n",
        "\n",
        "import numpy as np\n",
        "\n",
        "def f(x):\n",
        "  return np.exp(-x**2)\n",
        "\n",
        "h=np.linspace(0,1,1000)\n",
        "class Integrator:\n",
        "\n",
        "  def __init__(self, x, f):\n",
        "\n",
        "    self.x = x\n",
        "    # Integration step\n",
        "    self.h = self.x[1] - self.x[0]\n",
        "    self.y = f(self.x)\n",
        "\n",
        "    self.Integral = 0.\n",
        "\n",
        "\n",
        "class Trapezoid(Integrator):\n",
        "\n",
        "  def __init__(self,x,f):\n",
        "    Integrator.__init__(self,x,f)\n",
        "\n",
        "  def GetIntegral(self):\n",
        "\n",
        "    self.Integral = 0.\n",
        "\n",
        "    self.Integral += 0.5*( self.y[0]+self.y[-1] )\n",
        "\n",
        "    self.Integral += np.sum( self.y[1:-1] )\n",
        "\n",
        "    return self.Integral*self.h\n",
        "\n",
        "integral=Trapezoid(h,f)\n",
        "print(integral.GetIntegral())"
      ]
    },
    {
      "cell_type": "code",
      "source": [],
      "metadata": {
        "id": "Fh-XHQqCiJom"
      },
      "execution_count": null,
      "outputs": []
    },
    {
      "cell_type": "code",
      "source": [
        "#punto 6#\n",
        "\n",
        "import numpy as np\n",
        "def f(x):\n",
        "  return (np.sqrt((0.01)**2-x**2))/(0.5+x)\n",
        "\n",
        "h=np.linspace(-0.01,0.01,1000)\n",
        "class Integrator:\n",
        "\n",
        "  def __init__(self, x, f):\n",
        "\n",
        "    self.x = x\n",
        "    # Integration step\n",
        "    self.h = self.x[1] - self.x[0]\n",
        "    self.y = f(self.x)\n",
        "\n",
        "    self.Integral = 0.\n",
        "\n",
        "\n",
        "class Trapezoid(Integrator):\n",
        "\n",
        "  def __init__(self,x,f):\n",
        "    Integrator.__init__(self,x,f)\n",
        "\n",
        "  def GetIntegral(self):\n",
        "\n",
        "    self.Integral = 0.\n",
        "\n",
        "    self.Integral += 0.5*( self.y[0]+self.y[-1] )\n",
        "\n",
        "    self.Integral += np.sum( self.y[1:-1] )\n",
        "\n",
        "    return self.Integral*self.h\n",
        "\n",
        "class Simpson(Integrator):\n",
        "\n",
        "  def __init__(self,x,f):\n",
        "    Integrator.__init__(self,x,f)\n",
        "\n",
        "  def GetIntegral(self):\n",
        "\n",
        "    self.Integral = 0\n",
        "\n",
        "integral=Trapezoid(h,f)\n",
        "print(integral.GetIntegral())\n"
      ],
      "metadata": {
        "colab": {
          "base_uri": "https://localhost:8080/"
        },
        "id": "ZI6cDY1RyZaW",
        "outputId": "5404f934-fbc5-45bb-911f-c7529f228468"
      },
      "execution_count": null,
      "outputs": [
        {
          "output_type": "stream",
          "name": "stdout",
          "text": [
            "0.000314180149902915\n"
          ]
        }
      ]
    },
    {
      "cell_type": "code",
      "source": [
        "#punto 9#\n",
        "\n",
        "import sympy as sp\n",
        "\n",
        "x, a, b = sp.symbols('x a b')\n",
        "h = (b - a) / 3\n",
        "f = sp.Function('f')(x)\n",
        "\n",
        "x0 = a\n",
        "x1 = a + h\n",
        "x2 = a + 2*h\n",
        "x3 = b\n",
        "\n",
        "simpson_38 = (3 * h / 8) * (f.subs(x, x0) + 3*f.subs(x, (2*a + b)/3) + 3*f.subs(x, (a + 2*b)/3) + f.subs(x, x3))\n",
        "\n",
        "simpson_38\n"
      ],
      "metadata": {
        "colab": {
          "base_uri": "https://localhost:8080/",
          "height": 58
        },
        "id": "ru2-rgP-FYEl",
        "outputId": "665816d1-a223-4867-b0d6-fcb79dd11525"
      },
      "execution_count": null,
      "outputs": [
        {
          "output_type": "execute_result",
          "data": {
            "text/plain": [
              "(-a/8 + b/8)*(f(a) + f(b) + 3*f(a/3 + 2*b/3) + 3*f(2*a/3 + b/3))"
            ],
            "text/latex": "$\\displaystyle \\left(- \\frac{a}{8} + \\frac{b}{8}\\right) \\left(f{\\left(a \\right)} + f{\\left(b \\right)} + 3 f{\\left(\\frac{a}{3} + \\frac{2 b}{3} \\right)} + 3 f{\\left(\\frac{2 a}{3} + \\frac{b}{3} \\right)}\\right)$"
          },
          "metadata": {},
          "execution_count": 20
        }
      ]
    },
    {
      "cell_type": "code",
      "source": [
        "#punto 10#\n",
        "\n",
        "import numpy as np\n",
        "import sympy as sym\n",
        "\n",
        "x=sym.Symbol(\"x\",Real=True)\n",
        "h=sym.Symbol(\"h\",Real=True)\n",
        "y=sym.Symbol(\"y\",Real=True)\n",
        "def f(x):\n",
        "  return x*(x-1)*(x-2)*(x-3)\n",
        "\n",
        "def error(x,y):\n",
        "  n=y**4\n",
        "  d=sym.factorial(4)\n",
        "  return n/d\n",
        "\n",
        "def integrar(y,h,n):\n",
        "  res=sym.integrate(f(x),(x,0,3))\n",
        "  return res\n",
        "\n",
        "formula=integrar(f(x),h,3)\n",
        "print(formula)\n",
        "\n",
        "erro=error(x,y)\n",
        "print(erro)\n",
        "\n",
        "resultado= (formula)*(erro)*(h**5)\n",
        "print(resultado)\n"
      ],
      "metadata": {
        "colab": {
          "base_uri": "https://localhost:8080/"
        },
        "id": "WX_EWlr14qK5",
        "outputId": "d2f1ff42-c127-455b-e8a5-0880929ab9bd"
      },
      "execution_count": null,
      "outputs": [
        {
          "output_type": "stream",
          "name": "stdout",
          "text": [
            "-9/10\n",
            "y**4/24\n",
            "-3*h**5*y**4/80\n"
          ]
        }
      ]
    },
    {
      "cell_type": "code",
      "source": [
        "#Punto 15 #\n",
        "import numpy as np\n",
        "n = 20\n",
        "roots, weights = np.polynomial.legendre.leggauss(n)\n",
        "\n",
        "for i in range(n):\n",
        "    print(f\"Raíz {i+1}: {roots[i]}, Peso: {weights[i]}\")\n"
      ],
      "metadata": {
        "id": "28hg3IqVGdmL",
        "colab": {
          "base_uri": "https://localhost:8080/"
        },
        "outputId": "321b75c6-72a6-4ae6-edec-9f527066d740"
      },
      "execution_count": null,
      "outputs": [
        {
          "output_type": "stream",
          "name": "stdout",
          "text": [
            "Raíz 1: -0.9931285991850949, Peso: 0.017614007139153273\n",
            "Raíz 2: -0.9639719272779138, Peso: 0.04060142980038622\n",
            "Raíz 3: -0.9122344282513258, Peso: 0.06267204833410944\n",
            "Raíz 4: -0.8391169718222188, Peso: 0.08327674157670467\n",
            "Raíz 5: -0.7463319064601508, Peso: 0.10193011981724026\n",
            "Raíz 6: -0.636053680726515, Peso: 0.11819453196151825\n",
            "Raíz 7: -0.5108670019508271, Peso: 0.13168863844917653\n",
            "Raíz 8: -0.37370608871541955, Peso: 0.14209610931838187\n",
            "Raíz 9: -0.2277858511416451, Peso: 0.14917298647260366\n",
            "Raíz 10: -0.07652652113349734, Peso: 0.15275338713072578\n",
            "Raíz 11: 0.07652652113349734, Peso: 0.15275338713072578\n",
            "Raíz 12: 0.2277858511416451, Peso: 0.14917298647260366\n",
            "Raíz 13: 0.37370608871541955, Peso: 0.14209610931838187\n",
            "Raíz 14: 0.5108670019508271, Peso: 0.13168863844917653\n",
            "Raíz 15: 0.636053680726515, Peso: 0.11819453196151825\n",
            "Raíz 16: 0.7463319064601508, Peso: 0.10193011981724026\n",
            "Raíz 17: 0.8391169718222188, Peso: 0.08327674157670467\n",
            "Raíz 18: 0.9122344282513258, Peso: 0.06267204833410944\n",
            "Raíz 19: 0.9639719272779138, Peso: 0.04060142980038622\n",
            "Raíz 20: 0.9931285991850949, Peso: 0.017614007139153273\n"
          ]
        }
      ]
    },
    {
      "cell_type": "code",
      "source": [
        "#Punto 16#\n",
        "import numpy as np\n",
        "from scipy.special import roots_legendre\n",
        "\n",
        "def f(x):\n",
        "    return 1 / (x**4 + 1)\n",
        "n = 20\n",
        "roots, weights = roots_legendre(n)\n",
        "\n",
        "def integral_part1():\n",
        "    transformed_roots = 0.5 * (roots + 1)\n",
        "    transformed_weights = 0.5 * weights\n",
        "    return np.sum(transformed_weights * f(transformed_roots))\n",
        "\n",
        "def integral_part2():\n",
        "    transformed_roots = (1 + roots) / (1 - roots)\n",
        "    transformed_weights = 2 * weights / (1 - roots)**2\n",
        "    return np.sum(transformed_weights * f(transformed_roots))\n",
        "\n",
        "result = integral_part1() + integral_part2()\n",
        "\n",
        "print(f\"El valor aproximado de la integral es: {result}\")\n"
      ],
      "metadata": {
        "colab": {
          "base_uri": "https://localhost:8080/"
        },
        "id": "gbGbwvdZMsqL",
        "outputId": "4e3fcf45-883f-4624-e314-7fb1cd33022e"
      },
      "execution_count": null,
      "outputs": [
        {
          "output_type": "stream",
          "name": "stdout",
          "text": [
            "El valor aproximado de la integral es: 1.9776935755922609\n"
          ]
        }
      ]
    },
    {
      "cell_type": "code",
      "source": [
        "#Punto 17#\n",
        "import numpy as np\n",
        "import matplotlib.pyplot as plt\n",
        "from scipy.special import roots_laguerre\n",
        "\n",
        "\n",
        "def f(x):\n",
        "    return x**3 / (np.exp(x) - 1)\n",
        "\n",
        "I_exact = (np.pi**4) / 15\n",
        "n_values = np.arange(2, 11)\n",
        "accuracies = []\n",
        "\n",
        "for n in n_values:\n",
        "    roots, weights = roots_laguerre(n)\n",
        "    I_estimated = np.sum(weights * f(roots))\n",
        "    accuracy = I_estimated / I_exact\n",
        "    accuracies.append(accuracy)\n",
        "\n",
        "plt.plot(n_values, accuracies, 'bo-')\n",
        "plt.xlabel('n (Número de puntos)')\n",
        "plt.ylabel('Exactitud relativa')\n",
        "plt.title('Exactitud vs Número de puntos de evaluación (Gauss-Laguerre)')\n",
        "plt.grid(True)\n",
        "plt.show()\n"
      ],
      "metadata": {
        "colab": {
          "base_uri": "https://localhost:8080/",
          "height": 473
        },
        "id": "GG0YRqRPPNfd",
        "outputId": "2cedb1c4-3cec-4f32-fc89-e99c848c2ed8"
      },
      "execution_count": null,
      "outputs": [
        {
          "output_type": "display_data",
          "data": {
            "text/plain": [
              "<Figure size 640x480 with 1 Axes>"
            ],
            "image/png": "[encoded data removed]"
          },
          "metadata": {}
        }
      ]
    },
    {
      "cell_type": "code",
      "source": [],
      "metadata": {
        "id": "HR9CCq__eg26"
      },
      "execution_count": null,
      "outputs": []
    }
  ]
}